{
  "nbformat": 4,
  "nbformat_minor": 0,
  "metadata": {
    "colab": {
      "provenance": [],
      "authorship_tag": "ABX9TyNLUTIpHVYqylri0Hci2B7S",
      "include_colab_link": true
    },
    "kernelspec": {
      "name": "python3",
      "display_name": "Python 3"
    },
    "language_info": {
      "name": "python"
    }
  },
  "cells": [
    {
      "cell_type": "markdown",
      "metadata": {
        "id": "view-in-github",
        "colab_type": "text"
      },
      "source": [
        "<a href=\"https://colab.research.google.com/github/2203A51360/ASSIGNMENTS/blob/main/ML_Assignment1(2203A51360).ipynb\" target=\"_parent\"><img src=\"https://colab.research.google.com/assets/colab-badge.svg\" alt=\"Open In Colab\"/></a>"
      ]
    },
    {
      "cell_type": "markdown",
      "source": [
        "import pandas as pd\n",
        "data = pd.read_csv(\"/content/file.csv\")\n",
        "description = data.describe()\n",
        "print(\"Description of the data:\\n\", description)\n"
      ],
      "metadata": {
        "id": "z7tE3Hw_Msab"
      }
    },
    {
      "cell_type": "code",
      "source": [
        "Question 1:\n",
        "https://www.kaggle.com/datasets/camnugent/california-housing-prices\n",
        "Download the dataset from the above link.\n",
        "a) Read the data with pandas and describe the data\n",
        "b) Find data type and shape of each column\n",
        "c) Find the null values (if yes fill the null values with ‘0’ or mean of that column)\n",
        "d) find features and target variables\n",
        "e) Split the data into train and test.\n",
        "f) Normalize the data with min-max scaling\n"
      ],
      "metadata": {
        "id": "BHKcnBaBHSH-"
      },
      "execution_count": null,
      "outputs": []
    },
    {
      "cell_type": "code",
      "source": [
        "import pandas as pd\n",
        "data = pd.read_csv(\"/content/file.csv\")\n",
        "data_types = data.dtypes\n",
        "print(\"Data type of each column:\\n\", data_types)\n",
        "shape = data.shape\n",
        "print(\"\\nShape of the data:\", shape)"
      ],
      "metadata": {
        "colab": {
          "base_uri": "https://localhost:8080/"
        },
        "id": "D80Q4c_GMuND",
        "outputId": "cd4d98c5-8813-4782-a40a-42952c1a6b3f"
      },
      "execution_count": null,
      "outputs": [
        {
          "output_type": "stream",
          "name": "stdout",
          "text": [
            "Data type of each column:\n",
            " longitude             float64\n",
            "latitude              float64\n",
            "housing_median_age    float64\n",
            "total_rooms           float64\n",
            "total_bedrooms        float64\n",
            "population            float64\n",
            "households            float64\n",
            "median_income         float64\n",
            "median_house_value    float64\n",
            "dtype: object\n",
            "\n",
            "Shape of the data: (3000, 9)\n"
          ]
        }
      ]
    },
    {
      "cell_type": "code",
      "source": [
        "import pandas as pd\n",
        "data = pd.read_csv(\"/content/file.csv\")\n",
        "null_values = data.isnull().sum()\n",
        "print(\"Null values in the data:\\n\", null_values)\n",
        "data.fillna(data.mean(), inplace=True)"
      ],
      "metadata": {
        "id": "pCvbItPWM8J4",
        "colab": {
          "base_uri": "https://localhost:8080/"
        },
        "outputId": "388ccf4a-81b2-4a5a-9e58-847db2de514f"
      },
      "execution_count": null,
      "outputs": [
        {
          "output_type": "stream",
          "name": "stdout",
          "text": [
            "Null values in the data:\n",
            " longitude               0\n",
            "latitude                0\n",
            "housing_median_age      0\n",
            "total_rooms             0\n",
            "total_bedrooms        207\n",
            "population              0\n",
            "households              0\n",
            "median_income           0\n",
            "median_house_value      0\n",
            "ocean_proximity         0\n",
            "dtype: int64\n"
          ]
        },
        {
          "output_type": "stream",
          "name": "stderr",
          "text": [
            "<ipython-input-6-daebaf054ec6>:5: FutureWarning: The default value of numeric_only in DataFrame.mean is deprecated. In a future version, it will default to False. In addition, specifying 'numeric_only=None' is deprecated. Select only valid columns or specify the value of numeric_only to silence this warning.\n",
            "  data.fillna(data.mean(), inplace=True)\n"
          ]
        }
      ]
    },
    {
      "cell_type": "code",
      "source": [
        "import pandas as pd\n",
        "features = data.iloc[:, :-1]\n",
        "target = data.iloc[:, -1]\n",
        "print(\"Features:\")\n",
        "print(features.head())\n",
        "print(\"\\nTarget:\")\n",
        "print(target.head())\n"
      ],
      "metadata": {
        "colab": {
          "base_uri": "https://localhost:8080/"
        },
        "id": "Q_Q4KBrHE5nj",
        "outputId": "7fb4841a-d4e5-4971-bb57-aeb333159611"
      },
      "execution_count": null,
      "outputs": [
        {
          "output_type": "stream",
          "name": "stdout",
          "text": [
            "Features:\n",
            "   longitude  latitude  housing_median_age  total_rooms  total_bedrooms  \\\n",
            "0    -122.23     37.88                  41          880           129.0   \n",
            "1    -122.22     37.86                  21         7099          1106.0   \n",
            "2    -122.24     37.85                  52         1467           190.0   \n",
            "3    -122.25     37.85                  52         1274           235.0   \n",
            "4    -122.25     37.85                  52         1627           280.0   \n",
            "\n",
            "   population  households  median_income  median_house_value  \n",
            "0         322         126         8.3252              452600  \n",
            "1        2401        1138         8.3014              358500  \n",
            "2         496         177         7.2574              352100  \n",
            "3         558         219         5.6431              341300  \n",
            "4         565         259         3.8462              342200  \n",
            "\n",
            "Target:\n",
            "0    NEAR BAY\n",
            "1    NEAR BAY\n",
            "2    NEAR BAY\n",
            "3    NEAR BAY\n",
            "4    NEAR BAY\n",
            "Name: ocean_proximity, dtype: object\n"
          ]
        }
      ]
    },
    {
      "cell_type": "code",
      "source": [
        "import pandas as pd\n",
        "from sklearn.model_selection import train_test_split\n",
        "target_column = data.columns[-1]\n",
        "features = data.drop(columns=[target_column])\n",
        "target = data[target_column]\n",
        "X_train, X_test, y_train, y_test = train_test_split(features, target,test_size=0.2, random_state=42)\n",
        "print(\"Shape of X_train:\", X_train.shape)\n",
        "print(\"Shape of X_test:\", X_test.shape)\n",
        "print(\"Shape of y_train:\", y_train.shape)"
      ],
      "metadata": {
        "colab": {
          "base_uri": "https://localhost:8080/"
        },
        "id": "zkBu0wJ9FSLG",
        "outputId": "1247d5c0-3b85-4a8c-f170-68a03a7f857d"
      },
      "execution_count": null,
      "outputs": [
        {
          "output_type": "stream",
          "name": "stdout",
          "text": [
            "Shape of X_train: (16512, 9)\n",
            "Shape of X_test: (4128, 9)\n",
            "Shape of y_train: (16512,)\n"
          ]
        }
      ]
    },
    {
      "cell_type": "code",
      "source": [
        "from sklearn.preprocessing import MinMaxScaler\n",
        "target_column = data.columns[-1]\n",
        "features = data.drop(columns=[target_column])\n",
        "target = data[target_column]\n",
        "scaler = MinMaxScaler()\n",
        "features_normalized = scaler.fit_transform(features)\n",
        "features_normalized_df = pd.DataFrame(features_normalized, columns=features.columns)\n",
        "print(\"Normalized Features:\")\n",
        "print(features_normalized_df.head())\n",
        "\n"
      ],
      "metadata": {
        "colab": {
          "base_uri": "https://localhost:8080/"
        },
        "id": "83SolodgFmMW",
        "outputId": "46c40efb-febe-46a7-debe-3ae9dcdbb7fe"
      },
      "execution_count": null,
      "outputs": [
        {
          "output_type": "stream",
          "name": "stdout",
          "text": [
            "Normalized Features:\n",
            "   longitude  latitude  housing_median_age  total_rooms  total_bedrooms  \\\n",
            "0   0.211155  0.567481            0.784314     0.022331        0.019863   \n",
            "1   0.212151  0.565356            0.392157     0.180503        0.171477   \n",
            "2   0.210159  0.564293            1.000000     0.037260        0.029330   \n",
            "3   0.209163  0.564293            1.000000     0.032352        0.036313   \n",
            "4   0.209163  0.564293            1.000000     0.041330        0.043296   \n",
            "\n",
            "   population  households  median_income  median_house_value  \n",
            "0    0.008941    0.020556       0.539668            0.902266  \n",
            "1    0.067210    0.186976       0.538027            0.708247  \n",
            "2    0.013818    0.028943       0.466028            0.695051  \n",
            "3    0.015555    0.035849       0.354699            0.672783  \n",
            "4    0.015752    0.042427       0.230776            0.674638  \n"
          ]
        }
      ]
    }
  ]
}